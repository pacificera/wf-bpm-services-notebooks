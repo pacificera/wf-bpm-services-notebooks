version https://git-lfs.github.com/spec/v1
oid sha256:454fe141d0042e01e7e78f16415d261465fc1a09fba9d0b10c4a0b7081bb8e07
size 1368820
